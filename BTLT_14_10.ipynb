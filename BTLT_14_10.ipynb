{
  "nbformat": 4,
  "nbformat_minor": 0,
  "metadata": {
    "colab": {
      "name": "BTLT-14-10.ipynb",
      "provenance": [],
      "authorship_tag": "ABX9TyOw/UcKBzOgh6xok4uhUpSt",
      "include_colab_link": true
    },
    "kernelspec": {
      "name": "python3",
      "display_name": "Python 3"
    },
    "language_info": {
      "name": "python"
    }
  },
  "cells": [
    {
      "cell_type": "markdown",
      "metadata": {
        "id": "view-in-github",
        "colab_type": "text"
      },
      "source": [
        "<a href=\"https://colab.research.google.com/github/rekuantsun/Exercise/blob/main/BTLT_14_10.ipynb\" target=\"_parent\"><img src=\"https://colab.research.google.com/assets/colab-badge.svg\" alt=\"Open In Colab\"/></a>"
      ]
    },
    {
      "cell_type": "markdown",
      "metadata": {
        "id": "5yilICNIcdkm"
      },
      "source": [
        "1. Write a Python program to find the number of days in a month."
      ]
    },
    {
      "cell_type": "code",
      "metadata": {
        "colab": {
          "base_uri": "https://localhost:8080/"
        },
        "id": "AQsMFkh4rUth",
        "outputId": "855099b6-021c-4605-961f-b75539dfa0fb"
      },
      "source": [
        "Month = int(input('nhập vào số tháng :'))\n",
        "Year = int(input('nhập vào số năm :'))\n",
        "if(Month == 2 and (Year%4 == 0) or ((Year%100 == 0) and (Year%400 == 0))):\n",
        "    print('Số ngày là 29')\n",
        "elif(Month == 2):\n",
        "    print('Số ngày là 28')\n",
        "elif(Month == 1 or Month == 3 or Month == 5 or Month == 7 or Month == 8 or Month == 10 or Month == 12):\n",
        "    print('Số ngày là 31')\n",
        "else:\n",
        "    print('Số ngày là 30')"
      ],
      "execution_count": 1,
      "outputs": [
        {
          "output_type": "stream",
          "name": "stdout",
          "text": [
            "nhập vào số tháng :2\n",
            "nhập vào số năm :2016\n",
            "Số ngày là 29\n"
          ]
        }
      ]
    },
    {
      "cell_type": "markdown",
      "metadata": {
        "id": "ZjqIqUX4rw-N"
      },
      "source": [
        "2. Write a Python program that takes the user to provide a single character from the alphabet. Print\n",
        "Vowel or Consonant, depending on the user input. If the user input is not a letter (between a and z\n",
        "or A and Z), or is a string of length > 1, print an error message."
      ]
    },
    {
      "cell_type": "code",
      "metadata": {
        "colab": {
          "base_uri": "https://localhost:8080/"
        },
        "id": "WYW_spjTr0i7",
        "outputId": "14d55f28-6227-4c58-d24f-9b4e0b6c5e0d"
      },
      "source": [
        "def vowelOrConsonant(x):\n",
        "    if (x == 'a' or x == 'e' or x == 'i' or\n",
        "        x == 'o' or x == 'u' or x == 'A' or\n",
        "        x == 'E' or x == 'I' or x == 'O' or\n",
        "        x == 'U'):\n",
        "        print('Vowel')\n",
        "    else:\n",
        "        print('Consonant')\n",
        "vowelOrConsonant(input('Enter the character: '))"
      ],
      "execution_count": 7,
      "outputs": [
        {
          "output_type": "stream",
          "name": "stdout",
          "text": [
            "Enter the character: h\n",
            "Consonant\n"
          ]
        }
      ]
    },
    {
      "cell_type": "markdown",
      "metadata": {
        "id": "q8MrKieotraw"
      },
      "source": [
        "3. Write a Python program that takes a year from user and print whether that year is a leap year or\n",
        "not"
      ]
    },
    {
      "cell_type": "code",
      "metadata": {
        "colab": {
          "base_uri": "https://localhost:8080/"
        },
        "id": "kqslHZ2-toTr",
        "outputId": "0e622766-7337-45cb-8d92-0e8901e557e9"
      },
      "source": [
        "year = int(input('Nhập năm: '))\n",
        "if year % 4 == 0 and year % 100 != 0:\n",
        "    print(year, 'là năm nhuận')\n",
        "elif year % 100 == 0:\n",
        "    print(year, 'không phải năm nhuận')\n",
        "elif year % 400 ==0:\n",
        "    print(year, 'là năm nhuận')\n",
        "else:\n",
        "    print(year, 'không phải năm nhuận')"
      ],
      "execution_count": 8,
      "outputs": [
        {
          "output_type": "stream",
          "name": "stdout",
          "text": [
            "Nhập năm: 2016\n",
            "2016 là năm nhuận\n"
          ]
        }
      ]
    },
    {
      "cell_type": "markdown",
      "metadata": {
        "id": "36D6mc0quGP_"
      },
      "source": [
        "4. Write a program in Python to input 5 numbers from keyboard and find their sum and average."
      ]
    },
    {
      "cell_type": "code",
      "metadata": {
        "colab": {
          "base_uri": "https://localhost:8080/"
        },
        "id": "XN2Et--BuI-M",
        "outputId": "d0e9e4b5-1527-46f5-ae7b-8ee67d64cd49"
      },
      "source": [
        "x = []\n",
        "for i in range (5):\n",
        "  x.append(int(input('nhập vào: ')))\n",
        "sum = 0\n",
        "for j in x:\n",
        "  sum += j\n",
        "avg = sum / 5 \n",
        "print('tổng 5 số là:',sum,'\\n','trung bình 5 số là:',avg)"
      ],
      "execution_count": 10,
      "outputs": [
        {
          "output_type": "stream",
          "name": "stdout",
          "text": [
            "nhập vào: 1\n",
            "nhập vào: 2\n",
            "nhập vào: 3\n",
            "nhập vào: 4\n",
            "nhập vào: 5\n",
            "tổng 5 số là: 15 \n",
            " trung bình 5 số là: 3.0\n"
          ]
        }
      ]
    }
  ]
}