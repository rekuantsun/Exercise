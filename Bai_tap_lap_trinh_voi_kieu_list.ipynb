{
  "nbformat": 4,
  "nbformat_minor": 0,
  "metadata": {
    "colab": {
      "name": "Bai-tap-lap-trinh-voi-kieu-list.ipynb",
      "provenance": [],
      "authorship_tag": "ABX9TyPpIsKjaC62Wuab/baP24rn",
      "include_colab_link": true
    },
    "kernelspec": {
      "name": "python3",
      "display_name": "Python 3"
    },
    "language_info": {
      "name": "python"
    }
  },
  "cells": [
    {
      "cell_type": "markdown",
      "metadata": {
        "id": "view-in-github",
        "colab_type": "text"
      },
      "source": [
        "<a href=\"https://colab.research.google.com/github/rekuantsun/Exercise/blob/main/Bai_tap_lap_trinh_voi_kieu_list.ipynb\" target=\"_parent\"><img src=\"https://colab.research.google.com/assets/colab-badge.svg\" alt=\"Open In Colab\"/></a>"
      ]
    },
    {
      "cell_type": "code",
      "metadata": {
        "colab": {
          "base_uri": "https://localhost:8080/"
        },
        "id": "_lkAbZorhz8P",
        "outputId": "fdb02b8c-2cdc-40f7-9264-695e9304549b"
      },
      "source": [
        "# 1. Tạo một biến x kiểu List rỗng\n",
        "x = []\n",
        "# 2. Thêm giá trị 18 vào x\n",
        "x.append(18)\n",
        "# 3. Thêm giá trị \"Huế\" vào x\n",
        "x.append('Huế')\n",
        "# 4. Tạo 1 List y = [12, 45, -1, -0.56, \"abc\"]\n",
        "y = [12, 45, -1, -0.56, \"abc\"]\n",
        "# 5. Thêm y vào x\n",
        "x.extend(y)\n",
        "# 6. Xuất giá trị của x ra màn hình\n",
        "print(x)\n",
        "# 7. In ra màn hình giá trị của phần tử cuối cùng và phần tử đầu tiên của x\n",
        "print('phần tử đầu tiên của x là', x[0])\n",
        "print('phần tử cuối cùng của x là', x[-1])\n",
        "# 8. In ra màn hình giá trị của phần tử đầu tiên đến phần tử thứ 5 của x\n",
        "print('phần tử đầu tiên đến phần tử thứ 5 của x là', x[:6])\n",
        "# 9. In ra màn hình giá trị của phần từ thứ 3 đến cuối cùng của x\n",
        "print('phần từ thứ 3 đến cuối cùng của x là', x[3:])"
      ],
      "execution_count": 2,
      "outputs": [
        {
          "output_type": "stream",
          "name": "stdout",
          "text": [
            "[18, 'Huế', 12, 45, -1, -0.56, 'abc']\n",
            "phần tử đầu tiên của x là 18\n",
            "phần tử cuối cùng của x là abc\n",
            "phần tử đầu tiên đến phần tử thứ 5 của x là [18, 'Huế', 12, 45, -1, -0.56]\n",
            "phần từ thứ 3 đến cuối cùng của x là [45, -1, -0.56, 'abc']\n"
          ]
        }
      ]
    }
  ]
}