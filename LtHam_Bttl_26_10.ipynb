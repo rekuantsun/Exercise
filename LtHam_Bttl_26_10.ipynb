{
  "nbformat": 4,
  "nbformat_minor": 0,
  "metadata": {
    "colab": {
      "name": "LtHam-Bttl-26/10.ipynb",
      "provenance": [],
      "authorship_tag": "ABX9TyNAlGNeKWDzUdG+pPiYE/gE",
      "include_colab_link": true
    },
    "kernelspec": {
      "name": "python3",
      "display_name": "Python 3"
    },
    "language_info": {
      "name": "python"
    }
  },
  "cells": [
    {
      "cell_type": "markdown",
      "metadata": {
        "id": "view-in-github",
        "colab_type": "text"
      },
      "source": [
        "<a href=\"https://colab.research.google.com/github/rekuantsun/Exercise/blob/main/LtHam_Bttl_26_10.ipynb\" target=\"_parent\"><img src=\"https://colab.research.google.com/assets/colab-badge.svg\" alt=\"Open In Colab\"/></a>"
      ]
    },
    {
      "cell_type": "markdown",
      "metadata": {
        "id": "C0tTpoxkRrt3"
      },
      "source": [
        "Bài 1: Hãy xây dựng một hàm thực hiện các yêu cầu sau:\n",
        "- Xuất ra màn hình câu thông báo: “Lập trình Java 2021”\n",
        "- Hàm không có giá trị trả về\n",
        "Từ chương trình chính, gọi thực hiện hàm này."
      ]
    },
    {
      "cell_type": "code",
      "metadata": {
        "colab": {
          "base_uri": "https://localhost:8080/"
        },
        "id": "DFCyKlL_ReER",
        "outputId": "bff5790b-51af-4f74-fccf-85a4647635d6"
      },
      "source": [
        "def java():\n",
        "  print('Lập trình Java 2021')\n",
        "java()"
      ],
      "execution_count": null,
      "outputs": [
        {
          "output_type": "stream",
          "name": "stdout",
          "text": [
            "Lập trình Java 2021\n"
          ]
        }
      ]
    },
    {
      "cell_type": "markdown",
      "metadata": {
        "id": "KPMOJ3ndR_Dn"
      },
      "source": [
        "Bài 2: Hãy xây dựng một hàm thực hiện các yêu cầu sau:\n",
        "- Nhận một tham số đầu vào là một chuỗi ký tự (kiểu String)\n",
        "- Xuất ra màn hình nội dung chuỗi được truyền vào từ tham số\n",
        "- Hàm không có giá trị trả về\n",
        "Từ chương trình chính gọi thực hiện hàm này."
      ]
    },
    {
      "cell_type": "code",
      "metadata": {
        "colab": {
          "base_uri": "https://localhost:8080/"
        },
        "id": "0BaLtfQ1SCSs",
        "outputId": "e1d5fc9f-7240-4d3f-bbdc-21ce9d760db7"
      },
      "source": [
        "def thisstr(chuoi):\n",
        "  print(chuoi)\n",
        "thisstr('today')"
      ],
      "execution_count": null,
      "outputs": [
        {
          "output_type": "stream",
          "name": "stdout",
          "text": [
            "today\n"
          ]
        }
      ]
    },
    {
      "cell_type": "markdown",
      "metadata": {
        "id": "TcJqgk1KSnBj"
      },
      "source": [
        "Bài 3: Hãy viết chương trình thực hiện các yêu cầu sau:\n",
        "- Nhập một số nguyên dương n từ bàn phím (kiểm tra nếu không đạt yêu cầu thì bắt nhập\n",
        "lại)\n",
        "- Nhập một thông điệp từ bàn phím\n",
        "- Gọi thực hiện hàm ở Bài 2 n lần với thông điệp được truyền làm tham số đầu vào của hàm."
      ]
    },
    {
      "cell_type": "code",
      "metadata": {
        "colab": {
          "base_uri": "https://localhost:8080/"
        },
        "id": "nf61mYBMSt9o",
        "outputId": "f606f832-06df-486e-af6b-7b47e8696fec"
      },
      "source": [
        "def checkn(n):\n",
        "  if (n <= 0):\n",
        "    return checkn(int(input('Nhập lại n: ')))\n",
        "  else:\n",
        "    return n\n",
        "n = int(input('Nhập n: '))\n",
        "kq = checkn(n)\n",
        "chuoi = input('Nhập chuỗi: ')\n",
        "for i in range (1, kq + 1):\n",
        "  print(chuoi)"
      ],
      "execution_count": 26,
      "outputs": [
        {
          "output_type": "stream",
          "name": "stdout",
          "text": [
            "Nhập n: 0\n",
            "Nhập lại n: -2\n",
            "Nhập lại n: 3\n",
            "Nhập chuỗi: to day\n",
            "to day\n",
            "to day\n",
            "to day\n"
          ]
        }
      ]
    },
    {
      "cell_type": "markdown",
      "metadata": {
        "id": "syPhwpqyLnM6"
      },
      "source": [
        "Bài 4: Hãy viết chương trình thực hiện các yêu cầu sau:\n",
        "- Xây dựng hàm giải phương trình bậc 1 (ax + b = 0), với hệ số a & b được truyền vào qua\n",
        "thông số của hàm.\n",
        "- Chương trình chính nhận các thông số a, b từ bàn phím\n",
        "- Chương trình chính gọi hàm giải phương trình bậc 1 nêu trên"
      ]
    },
    {
      "cell_type": "code",
      "metadata": {
        "colab": {
          "base_uri": "https://localhost:8080/"
        },
        "id": "N3hwIwS7v19S",
        "outputId": "91d098c7-b3ba-495a-d4eb-37516e07dc3f"
      },
      "source": [
        "def ptbn(a,b):\n",
        "  if a == 0:\n",
        "    if b == 0:\n",
        "      print('vô số nghiệm')\n",
        "    else:\n",
        "      print('vô nghiệm')\n",
        "  else:\n",
        "    x= -b/a\n",
        "    print('Nghiệm x là', x)\n",
        "a = int(input('nhập a: '))\n",
        "b = int(input('nhập b: '))\n",
        "ptbn(a,b)"
      ],
      "execution_count": 27,
      "outputs": [
        {
          "output_type": "stream",
          "name": "stdout",
          "text": [
            "nhập a: 3\n",
            "nhập b: 3\n",
            "Nghiệm x là -1.0\n"
          ]
        }
      ]
    },
    {
      "cell_type": "markdown",
      "metadata": {
        "id": "mMkORVMSMV2d"
      },
      "source": [
        "Bài 5: Hãy viết chương trình thực hiện các yêu cầu sau:\n",
        "- Xây dựng hàm giải phương trình bậc (ax2 + bx + c = 0), với hệ số a & b & c được truyền\n",
        "vào qua thông số của hàm.\n",
        "- Chương trình chính nhận các thông số a, b & c từ bàn phím\n",
        "- Chương trình chính gọi hàm giải phương trình bậc 2 nêu trên"
      ]
    },
    {
      "cell_type": "code",
      "metadata": {
        "colab": {
          "base_uri": "https://localhost:8080/"
        },
        "id": "FrpqXZbmMWiI",
        "outputId": "3ee9d287-c305-4cfa-fb24-c3fe74eb8109"
      },
      "source": [
        "import math\n",
        "#nhập các thông số a,b,c\n",
        "a = int(input('nhập a: '))\n",
        "b = int(input('nhập b: '))\n",
        "c = int(input('nhập c: '))\n",
        "#biện luận phương trình bậc hai\n",
        "def ptbh(a,b,c):\n",
        "  if (a == 0):\n",
        "    print('phương trình này không phải là phương trình bậc hai')\n",
        "  else:\n",
        "    denta = b**2 - 4*a*c\n",
        "    if (denta < 0):\n",
        "      print('phương trình vô nghiệm')\n",
        "    elif (denta == 0):\n",
        "      print('phương trình có nghiệm kép x =', -b / 2*a)\n",
        "    else:\n",
        "      print('phương trình có 2 nghiệm:\\n x1 =',(-b + math.sqrt(denta))/ 2*a, '\\n x2 =', (-b - math.sqrt(denta))/ 2*a)\n",
        "ptbh(a,b,c)"
      ],
      "execution_count": 36,
      "outputs": [
        {
          "output_type": "stream",
          "name": "stdout",
          "text": [
            "nhập a: 1\n",
            "nhập b: 2\n",
            "nhập c: -3\n",
            "phương trình có 2 nghiệm:\n",
            " x1 = 1.0 \n",
            " x2 = -3.0\n"
          ]
        }
      ]
    },
    {
      "cell_type": "markdown",
      "metadata": {
        "id": "JhANBjxbdTdV"
      },
      "source": [
        "Bài 6: Hãy viết chương trình thực hiện các yêu cầu sau:\n",
        "\n",
        "- Cho người dùng lựa chọn giải phương trình bậc 1 hay bậc 2 bằng cách nhập số (1 hay 2)\n",
        "từ bàn phím\n",
        "- Nếu người dùng chọn giải phương trình bậc 1, thì thực hiện các bước như Bài 4\n",
        "- Nếu người dùng chọn giải phương trình bậc 2, thì thực hiện các bước như Bài 5"
      ]
    },
    {
      "cell_type": "code",
      "metadata": {
        "colab": {
          "base_uri": "https://localhost:8080/"
        },
        "id": "TB-l5zsfdUkW",
        "outputId": "66ee1e53-7a7e-440f-af55-4f9c266c409d"
      },
      "source": [
        "def main():\n",
        "  choice = int(input('chọn 1 để giải ptbn, 2 để giải ptbh: '))\n",
        "  if choice == 1:\n",
        "    def ptbn(a,b):\n",
        "      if a == 0:\n",
        "        if b == 0:\n",
        "          print('vô số nghiệm')\n",
        "        else:\n",
        "          print('vô nghiệm')\n",
        "      else:\n",
        "        x= -b/a\n",
        "        print('Nghiệm x là', x)\n",
        "    a = int(input('nhập a: '))\n",
        "    b = int(input('nhập b: '))\n",
        "    ptbn(a,b)\n",
        "  if choice == 2:\n",
        "    import math\n",
        "    #nhập các thông số a,b,c\n",
        "    a = int(input('nhập a: '))\n",
        "    b = int(input('nhập b: '))\n",
        "    c = int(input('nhập c: '))\n",
        "    #biện luận phương trình bậc hai\n",
        "    def ptbh(a,b,c):\n",
        "      if (a == 0):\n",
        "        print('phương trình này không phải là phương trình bậc hai')\n",
        "      else:\n",
        "        denta = b**2 - 4*a*c\n",
        "        if (denta < 0):\n",
        "          print('phương trình vô nghiệm')\n",
        "        elif (denta == 0):\n",
        "          print('phương trình có nghiệm kép x =', -b / 2*a)\n",
        "        else:\n",
        "          print('phương trình có 2 nghiệm:\\n x1 =',(-b + math.sqrt(denta))/ 2*a, '\\n x2 =', (-b - math.sqrt(denta))/ 2*a)\n",
        "    ptbh(a,b,c)\n",
        "if __name__ == '__main__':\n",
        "  main()"
      ],
      "execution_count": 41,
      "outputs": [
        {
          "output_type": "stream",
          "name": "stdout",
          "text": [
            "chọn 1 để giải ptbn, 2 để giải ptbh: 2\n",
            "nhập a: 1\n",
            "nhập b: 2\n",
            "nhập c: -3\n",
            "phương trình có 2 nghiệm:\n",
            " x1 = 1.0 \n",
            " x2 = -3.0\n"
          ]
        }
      ]
    },
    {
      "cell_type": "markdown",
      "metadata": {
        "id": "155p1J7Mgp15"
      },
      "source": [
        "Bài 7: Viết chương trình thực hiện các yêu cầu sau:\n",
        "- Thực hiện yêu cầu như bài 6\n",
        "- Sau khi thực hiện xong cho người dùng lựa chọn tiếp tục thực hiện lại hay kết thúc chương\n",
        "trình"
      ]
    },
    {
      "cell_type": "code",
      "metadata": {
        "colab": {
          "base_uri": "https://localhost:8080/"
        },
        "id": "cTeQDFt5gtQE",
        "outputId": "e5ecfb54-0d5e-45a8-8613-32ce933b46b4"
      },
      "source": [
        "def main():\n",
        "  choice = int(input('chọn 1 để giải ptbn, 2 để giải ptbh: '))\n",
        "  if choice == 1:\n",
        "    def ptbn(a,b):\n",
        "      if a == 0:\n",
        "        if b == 0:\n",
        "          print('vô số nghiệm')\n",
        "        else:\n",
        "          print('vô nghiệm')\n",
        "      else:\n",
        "        x= -b/a\n",
        "        print('Nghiệm x là', x)\n",
        "    a = int(input('nhập a: '))\n",
        "    b = int(input('nhập b: '))\n",
        "    ptbn(a,b)\n",
        "  if choice == 2:\n",
        "    import math\n",
        "    #nhập các thông số a,b,c\n",
        "    a = int(input('nhập a: '))\n",
        "    b = int(input('nhập b: '))\n",
        "    c = int(input('nhập c: '))\n",
        "    #biện luận phương trình bậc hai\n",
        "    def ptbh(a,b,c):\n",
        "      if (a == 0):\n",
        "        print('phương trình này không phải là phương trình bậc hai')\n",
        "      else:\n",
        "        denta = b**2 - 4*a*c\n",
        "        if (denta < 0):\n",
        "          print('phương trình vô nghiệm')\n",
        "        elif (denta == 0):\n",
        "          print('phương trình có nghiệm kép x =', -b / 2*a)\n",
        "        else:\n",
        "          print('phương trình có 2 nghiệm:\\n x1 =',(-b + math.sqrt(denta))/ 2*a, '\\n x2 =', (-b - math.sqrt(denta))/ 2*a)\n",
        "    ptbh(a,b,c)\n",
        "  again = input('bạn muốn tiếp tục Y/N ?\\n')\n",
        "  if again == 'y' or again == 'Y':\n",
        "    return main()\n",
        "  else:\n",
        "    print('hẹn gặp lại!')\n",
        "if __name__ == '__main__':\n",
        "  main()"
      ],
      "execution_count": 43,
      "outputs": [
        {
          "output_type": "stream",
          "name": "stdout",
          "text": [
            "chọn 1 để giải ptbn, 2 để giải ptbh: 1\n",
            "nhập a: 1\n",
            "nhập b: 2\n",
            "Nghiệm x là -2.0\n",
            "bạn muốn tiếp tục Y/N ?\n",
            "y\n",
            "chọn 1 để giải ptbn, 2 để giải ptbh: 2\n",
            "nhập a: 3\n",
            "nhập b: 3\n",
            "nhập c: -1\n",
            "phương trình có 2 nghiệm:\n",
            " x1 = 2.3738635424337597 \n",
            " x2 = -11.37386354243376\n",
            "bạn muốn tiếp tục Y/N ?\n",
            "n\n",
            "hẹn gặp lại!\n"
          ]
        }
      ]
    }
  ]
}