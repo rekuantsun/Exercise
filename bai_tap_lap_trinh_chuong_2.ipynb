{
  "nbformat": 4,
  "nbformat_minor": 0,
  "metadata": {
    "colab": {
      "name": "bai-tap-lap-trinh-chuong-2.ipynb",
      "provenance": [],
      "toc_visible": true,
      "authorship_tag": "ABX9TyO3gh7kQpj421+MCGKiut9p",
      "include_colab_link": true
    },
    "kernelspec": {
      "name": "python3",
      "display_name": "Python 3"
    },
    "language_info": {
      "name": "python"
    }
  },
  "cells": [
    {
      "cell_type": "markdown",
      "metadata": {
        "id": "view-in-github",
        "colab_type": "text"
      },
      "source": [
        "<a href=\"https://colab.research.google.com/github/rekuantsun/Exercise/blob/main/bai_tap_lap_trinh_chuong_2.ipynb\" target=\"_parent\"><img src=\"https://colab.research.google.com/assets/colab-badge.svg\" alt=\"Open In Colab\"/></a>"
      ]
    },
    {
      "cell_type": "code",
      "metadata": {
        "colab": {
          "base_uri": "https://localhost:8080/"
        },
        "id": "fNaHdli3eRtM",
        "outputId": "88b7c7cc-b08a-448b-bd89-5ba68006ba71"
      },
      "source": [
        "#Bai1\n",
        "x = int(input('x ='))\n",
        "y = int(input('y ='))\n",
        "print('x + y =', x + y)\n",
        "print('x - y =', x - y)\n",
        "print('x * y =', x * y)\n",
        "print('x % y =', x % y)\n",
        "print('x // y =', x // y)"
      ],
      "execution_count": null,
      "outputs": [
        {
          "output_type": "stream",
          "name": "stdout",
          "text": [
            "x =1\n",
            "y =2\n",
            "x + y = 3\n",
            "x - y = -1\n",
            "x * y = 2\n",
            "x % y = 1\n",
            "x // y = 0\n"
          ]
        }
      ]
    },
    {
      "cell_type": "code",
      "metadata": {
        "colab": {
          "base_uri": "https://localhost:8080/"
        },
        "id": "SmrYZojFfY_e",
        "outputId": "266629c5-6d6b-45e6-e096-022ac910edbf"
      },
      "source": [
        "#Bai2\n",
        "x = float(input('x ='))\n",
        "y = float(input('y ='))\n",
        "print('x + y =', x + y)\n",
        "print('x - y =', x - y)\n",
        "print('x * y =', x * y)\n",
        "print('x / y =', x / y)"
      ],
      "execution_count": null,
      "outputs": [
        {
          "output_type": "stream",
          "name": "stdout",
          "text": [
            "x =2.9\n",
            "y =1.1\n",
            "x + y = 4.0\n",
            "x - y = 1.7999999999999998\n",
            "x * y = 3.19\n",
            "x / y = 2.6363636363636362\n"
          ]
        }
      ]
    },
    {
      "cell_type": "code",
      "metadata": {
        "colab": {
          "base_uri": "https://localhost:8080/"
        },
        "id": "k_ebyTNngFjH",
        "outputId": "188ca543-2622-4bdc-cd6b-34dc0bf932e0"
      },
      "source": [
        "#Bai3\n",
        "import math\n",
        "x = int(input())\n",
        "x = abs(x)\n",
        "print('abs(x) =', x)\n",
        "x = float(x)\n",
        "print('float(x) =', x)\n",
        "y = int(input())\n",
        "print('x ^ y =', x ** y)\n",
        "print('sqrt(x) =', math.sqrt(x))"
      ],
      "execution_count": null,
      "outputs": [
        {
          "output_type": "stream",
          "name": "stdout",
          "text": [
            "-2\n",
            "abs(x) = 2\n",
            "float(x) = 2.0\n",
            "9\n",
            "x ^ y = 512.0\n",
            "sqrt(x) = 1.4142135623730951\n"
          ]
        }
      ]
    },
    {
      "cell_type": "code",
      "metadata": {
        "colab": {
          "base_uri": "https://localhost:8080/"
        },
        "id": "wzxfwmF8jmH0",
        "outputId": "05ec7bbf-2cbc-4808-ccd7-d4e72636b722"
      },
      "source": [
        "#Bai4\n",
        "x = float(input('x ='))\n",
        "y = float(input('y ='))\n",
        "if x >= y:\n",
        "  print('x >= y')\n",
        "if x <= y:\n",
        "  print('x <= y')\n",
        "if x > y:\n",
        "  print('x > y')\n",
        "if x < y:\n",
        "  print('x < y')\n",
        "if x != y:\n",
        "  print('x # y')"
      ],
      "execution_count": 1,
      "outputs": [
        {
          "output_type": "stream",
          "name": "stdout",
          "text": [
            "x =1\n",
            "y =2\n",
            "x <= y\n",
            "x < y\n",
            "x # y\n"
          ]
        }
      ]
    },
    {
      "cell_type": "code",
      "metadata": {
        "id": "7h7Y5Hfvj8ce",
        "colab": {
          "base_uri": "https://localhost:8080/"
        },
        "outputId": "90ec27ff-cbc2-4bd2-b47d-4fd05ec03feb"
      },
      "source": [
        "#Bai5\n",
        "s = str(input())\n",
        "print(s.upper())\n",
        "print(s.lower())"
      ],
      "execution_count": null,
      "outputs": [
        {
          "output_type": "stream",
          "name": "stdout",
          "text": [
            "Le Quang Trung\n",
            "LE QUANG TRUNG\n",
            "le quang trung\n"
          ]
        }
      ]
    },
    {
      "cell_type": "code",
      "metadata": {
        "colab": {
          "base_uri": "https://localhost:8080/"
        },
        "id": "Sj1Rv8d3qT-F",
        "outputId": "1143bba7-3c5d-4cab-f52c-20f0ac3ff89a"
      },
      "source": [
        "#Bai6\n",
        "print(\"Nam quốc sơn hà Nam đế cư\\nTiệt nhiên phận định tại thiên thư\\nNhư hà nghịch lỗ lai xâm phạm\\nNhữ đẳng hành khan thủ bại hư.\")"
      ],
      "execution_count": 6,
      "outputs": [
        {
          "output_type": "stream",
          "name": "stdout",
          "text": [
            "Nam quốc sơn hà Nam đế cư\n",
            "Tiệt nhiên phận định tại thiên thư\n",
            "Như hà nghịch lỗ lai xâm phạm\n",
            "Nhữ đẳng hành khan thủ bại hư.\n"
          ]
        }
      ]
    }
  ]
}