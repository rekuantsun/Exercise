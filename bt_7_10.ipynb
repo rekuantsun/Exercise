{
  "nbformat": 4,
  "nbformat_minor": 0,
  "metadata": {
    "colab": {
      "name": "bt-7-10.ipynb",
      "provenance": [],
      "authorship_tag": "ABX9TyPPy7g+YF3Y3DE3hcVFpvUO",
      "include_colab_link": true
    },
    "kernelspec": {
      "name": "python3",
      "display_name": "Python 3"
    },
    "language_info": {
      "name": "python"
    }
  },
  "cells": [
    {
      "cell_type": "markdown",
      "metadata": {
        "id": "view-in-github",
        "colab_type": "text"
      },
      "source": [
        "<a href=\"https://colab.research.google.com/github/rekuantsun/Exercise/blob/main/bt_7_10.ipynb\" target=\"_parent\"><img src=\"https://colab.research.google.com/assets/colab-badge.svg\" alt=\"Open In Colab\"/></a>"
      ]
    },
    {
      "cell_type": "code",
      "metadata": {
        "colab": {
          "base_uri": "https://localhost:8080/"
        },
        "id": "QeTgSeMIMQ6f",
        "outputId": "e8a176e6-0984-423e-da97-414793aa3f1d"
      },
      "source": [
        "#1\n",
        "x=0\n",
        "while x<10:\n",
        "  print(x)\n",
        "  x+=1\n",
        " "
      ],
      "execution_count": null,
      "outputs": [
        {
          "output_type": "stream",
          "name": "stdout",
          "text": [
            "0\n",
            "1\n",
            "2\n",
            "3\n",
            "4\n",
            "5\n",
            "6\n",
            "7\n",
            "8\n",
            "9\n"
          ]
        }
      ]
    },
    {
      "cell_type": "code",
      "metadata": {
        "colab": {
          "base_uri": "https://localhost:8080/"
        },
        "id": "6mW1vTkUMw9Y",
        "outputId": "b744970e-c57c-4064-b7c2-d1a6f082b335"
      },
      "source": [
        "#2\n",
        "for i in range(5,0,-1):\n",
        "  for j in range(i,0,-1):\n",
        "    if j ==1:\n",
        "      print(j)\n",
        "    else:\n",
        "      print(j,end=' ')"
      ],
      "execution_count": null,
      "outputs": [
        {
          "output_type": "stream",
          "name": "stdout",
          "text": [
            "5 4 3 2 1\n",
            "4 3 2 1\n",
            "3 2 1\n",
            "2 1\n",
            "1\n"
          ]
        }
      ]
    },
    {
      "cell_type": "code",
      "metadata": {
        "colab": {
          "base_uri": "https://localhost:8080/"
        },
        "id": "mME6c4CdNHP_",
        "outputId": "e12a3544-24b1-4bb8-a027-f9eff554136b"
      },
      "source": [
        "#3\n",
        "x = int(input('Enter your number: '))\n",
        "sum = 0\n",
        "for i in range (x):\n",
        "  sum+=i\n",
        "print(sum)"
      ],
      "execution_count": null,
      "outputs": [
        {
          "output_type": "stream",
          "name": "stdout",
          "text": [
            "Enter number: 10\n",
            "45\n"
          ]
        }
      ]
    },
    {
      "cell_type": "code",
      "metadata": {
        "colab": {
          "base_uri": "https://localhost:8080/"
        },
        "id": "lA76MgZ9NqbQ",
        "outputId": "bcfa99f9-3c70-4484-a182-ef1653f65f94"
      },
      "source": [
        "#4\n",
        "x = int(input('Enter your number: '))\n",
        "for i in range (1,11):\n",
        "  print(x,'*',i,'=',x*i)\n",
        "  "
      ],
      "execution_count": null,
      "outputs": [
        {
          "output_type": "stream",
          "name": "stdout",
          "text": [
            "Enter your number: 5\n",
            "5 * 1 = 5\n",
            "5 * 2 = 10\n",
            "5 * 3 = 15\n",
            "5 * 4 = 20\n",
            "5 * 5 = 25\n",
            "5 * 6 = 30\n",
            "5 * 7 = 35\n",
            "5 * 8 = 40\n",
            "5 * 9 = 45\n",
            "5 * 10 = 50\n"
          ]
        }
      ]
    },
    {
      "cell_type": "code",
      "metadata": {
        "colab": {
          "base_uri": "https://localhost:8080/"
        },
        "id": "SlKpcduuOvSe",
        "outputId": "83bb9b81-b3b3-4cf5-a44d-afc118512c1b"
      },
      "source": [
        "#5\n",
        "x = [2,9,1,1,0,2]\n",
        "for i in x:\n",
        "  print(i)\n",
        " "
      ],
      "execution_count": null,
      "outputs": [
        {
          "output_type": "stream",
          "name": "stdout",
          "text": [
            "2\n",
            "9\n",
            "1\n",
            "1\n",
            "0\n",
            "2\n"
          ]
        }
      ]
    },
    {
      "cell_type": "code",
      "metadata": {
        "colab": {
          "base_uri": "https://localhost:8080/"
        },
        "id": "zBlZlHrYPFwv",
        "outputId": "99c7b51a-3117-442e-8bf9-93eea8cbc1d8"
      },
      "source": [
        "#6\n",
        "x = 456\n",
        "print(len(str(x)))"
      ],
      "execution_count": null,
      "outputs": [
        {
          "output_type": "stream",
          "name": "stdout",
          "text": [
            "3\n"
          ]
        }
      ]
    },
    {
      "cell_type": "code",
      "metadata": {
        "colab": {
          "base_uri": "https://localhost:8080/"
        },
        "id": "K8_4bk3XPWMu",
        "outputId": "a4c463cb-2e6a-4be5-8b50-53e5de145144"
      },
      "source": [
        "#7\n",
        "x = [1,2,0,3]\n",
        "x.reverse()\n",
        "for i in x:\n",
        "  print(i)"
      ],
      "execution_count": null,
      "outputs": [
        {
          "output_type": "stream",
          "name": "stdout",
          "text": [
            "3\n",
            "0\n",
            "2\n",
            "1\n"
          ]
        }
      ]
    },
    {
      "cell_type": "code",
      "metadata": {
        "colab": {
          "base_uri": "https://localhost:8080/"
        },
        "id": "pMdKVAR4Qu7A",
        "outputId": "f8434da0-b5be-48cf-b8d6-6fa0f555b93e"
      },
      "source": [
        "#8\n",
        "for i in range(-10,0):\n",
        "  print (i)"
      ],
      "execution_count": null,
      "outputs": [
        {
          "output_type": "stream",
          "name": "stdout",
          "text": [
            "-10\n",
            "-9\n",
            "-8\n",
            "-7\n",
            "-6\n",
            "-5\n",
            "-4\n",
            "-3\n",
            "-2\n",
            "-1\n"
          ]
        }
      ]
    },
    {
      "cell_type": "code",
      "metadata": {
        "colab": {
          "base_uri": "https://localhost:8080/"
        },
        "id": "MNpRMVlRRIrS",
        "outputId": "874169ab-01c9-4625-f54b-0c7f5fd0628f"
      },
      "source": [
        "#9\n",
        "x =10\n",
        "for i in range(x):\n",
        "  print (i)"
      ],
      "execution_count": null,
      "outputs": [
        {
          "output_type": "stream",
          "name": "stdout",
          "text": [
            "0\n",
            "1\n",
            "2\n",
            "3\n",
            "4\n",
            "5\n",
            "6\n",
            "7\n",
            "8\n",
            "9\n"
          ]
        }
      ]
    },
    {
      "cell_type": "code",
      "metadata": {
        "colab": {
          "base_uri": "https://localhost:8080/"
        },
        "id": "oM_O-I_hROPP",
        "outputId": "2636744d-5a9e-4983-df01-8f404e6f8e55"
      },
      "source": [
        "#10\n",
        "x= int(input('so bat dau: '))\n",
        "y= int(input('so ket thuc: '))\n",
        "z=[]\n",
        "for i in range (x,y+1):\n",
        "  if i > 2: \n",
        "    for j in range(2,i):\n",
        "      if i%j==0:\n",
        "        break\n",
        "    else:\n",
        "      z.append(i)\n",
        "print('so nguyen to: ',z)"
      ],
      "execution_count": null,
      "outputs": [
        {
          "output_type": "stream",
          "name": "stdout",
          "text": [
            "so bat dau: 0\n",
            "so ket thuc: 20\n",
            "so nguyen to:  [3, 5, 7, 11, 13, 17, 19]\n"
          ]
        }
      ]
    },
    {
      "cell_type": "code",
      "metadata": {
        "id": "_4plskmTVc2K",
        "colab": {
          "base_uri": "https://localhost:8080/"
        },
        "outputId": "6fe8f677-7d8d-42e6-9b22-4a0c50f5b88d"
      },
      "source": [
        "#11\n",
        "nterms = int(input('term: '))\n",
        "n1,n2=0,1\n",
        "count=0\n",
        "if nterms <= 0:\n",
        "  print('plese enter a positive integer')\n",
        "elif nterms == 1:\n",
        "  print('fibonacci sequence upto',nterms,':')\n",
        "  print(n1)\n",
        "else:\n",
        "  print('fibonacci sequence:')\n",
        "  while count < nterms:\n",
        "    print(n1)\n",
        "    nth = n1+n2\n",
        "    n1=n2\n",
        "    n2=nth\n",
        "    count += 1"
      ],
      "execution_count": null,
      "outputs": [
        {
          "output_type": "stream",
          "name": "stdout",
          "text": [
            "term: 10\n",
            "fibonacci sequence:\n",
            "0\n",
            "1\n",
            "1\n",
            "2\n",
            "3\n",
            "5\n",
            "8\n",
            "13\n",
            "21\n",
            "34\n"
          ]
        }
      ]
    },
    {
      "cell_type": "code",
      "metadata": {
        "colab": {
          "base_uri": "https://localhost:8080/"
        },
        "id": "l5uKjsAdpln8",
        "outputId": "f4303a67-9ba4-480b-db26-98b85ef92d7a"
      },
      "source": [
        "#12\n",
        "n12 = int(input('mời bạn nhập vào 1 số nguyên: '))\n",
        "if n12 < 0:\n",
        "  print(0)\n",
        "elif n12 == 0 or n12 == 1:\n",
        "  print(1)\n",
        "else:\n",
        "  fact = 1\n",
        "  while (n12>1):\n",
        "    fact*=n12\n",
        "    n12-=1\n",
        "  print(fact)"
      ],
      "execution_count": null,
      "outputs": [
        {
          "output_type": "stream",
          "name": "stdout",
          "text": [
            "mời bạn nhập vào 1 số nguyên: 10\n",
            "3628800\n"
          ]
        }
      ]
    },
    {
      "cell_type": "code",
      "metadata": {
        "colab": {
          "base_uri": "https://localhost:8080/"
        },
        "id": "P_a386zUqM75",
        "outputId": "d01cfac5-f66c-43ea-b93e-a76b8f22f0ce"
      },
      "source": [
        "#13\n",
        "n13 = int(input('enter your number: '))\n",
        "rev = 0\n",
        "while(n13>0):\n",
        "  a = n13%10\n",
        "  rev = rev*10+a\n",
        "  n13 = n13//10\n",
        "print(rev)"
      ],
      "execution_count": null,
      "outputs": [
        {
          "output_type": "stream",
          "name": "stdout",
          "text": [
            "enter your number: 132\n",
            "231\n"
          ]
        }
      ]
    },
    {
      "cell_type": "code",
      "metadata": {
        "colab": {
          "base_uri": "https://localhost:8080/"
        },
        "id": "k5WjQzg1rZEa",
        "outputId": "babd0876-0bd3-49b5-d2f8-30f5058506c7"
      },
      "source": [
        "#14\n",
        "arr=[0,1,2,3,4,5]\n",
        "for i in arr:\n",
        "  if i % 2 == 1:\n",
        "    print(arr[i])"
      ],
      "execution_count": null,
      "outputs": [
        {
          "output_type": "stream",
          "name": "stdout",
          "text": [
            "1\n",
            "3\n",
            "5\n"
          ]
        }
      ]
    },
    {
      "cell_type": "code",
      "metadata": {
        "colab": {
          "base_uri": "https://localhost:8080/"
        },
        "id": "I_ou2gRErloq",
        "outputId": "a83d74ac-368c-4d62-8207-9fd8810b66b8"
      },
      "source": [
        "#15\n",
        "cubeInput = int(input('enter your number: '))\n",
        "sumCube = 0 \n",
        "for i in range(1,cubeInput+1):\n",
        "  sumCube += i*i*i\n",
        "print(sumCube)"
      ],
      "execution_count": null,
      "outputs": [
        {
          "output_type": "stream",
          "name": "stdout",
          "text": [
            "enter your number: 5\n",
            "225\n"
          ]
        }
      ]
    }
  ]
}