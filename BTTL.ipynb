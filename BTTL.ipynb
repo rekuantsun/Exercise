{
  "nbformat": 4,
  "nbformat_minor": 0,
  "metadata": {
    "colab": {
      "name": "BTTL.ipynb",
      "provenance": [],
      "authorship_tag": "ABX9TyNEef8ZwY52U4mt/v/3Cjws",
      "include_colab_link": true
    },
    "kernelspec": {
      "name": "python3",
      "display_name": "Python 3"
    },
    "language_info": {
      "name": "python"
    }
  },
  "cells": [
    {
      "cell_type": "markdown",
      "metadata": {
        "id": "view-in-github",
        "colab_type": "text"
      },
      "source": [
        "<a href=\"https://colab.research.google.com/github/rekuantsun/Exercise/blob/main/BTTL.ipynb\" target=\"_parent\"><img src=\"https://colab.research.google.com/assets/colab-badge.svg\" alt=\"Open In Colab\"/></a>"
      ]
    },
    {
      "cell_type": "code",
      "metadata": {
        "colab": {
          "base_uri": "https://localhost:8080/"
        },
        "id": "dJlaNMyhcEDy",
        "outputId": "e0690e7f-49b8-42ea-b45f-983c2a5de3cc"
      },
      "source": [
        "#1\n",
        "list = [11,29,2,13,15]\n",
        "sum(list)"
      ],
      "execution_count": 1,
      "outputs": [
        {
          "output_type": "execute_result",
          "data": {
            "text/plain": [
              "70"
            ]
          },
          "metadata": {},
          "execution_count": 1
        }
      ]
    },
    {
      "cell_type": "code",
      "metadata": {
        "colab": {
          "base_uri": "https://localhost:8080/"
        },
        "id": "7tSXQXVLdadU",
        "outputId": "261a4d7a-cdf2-4823-db1e-a06449ca194d"
      },
      "source": [
        "#2\n",
        "total = 1\n",
        "for i in list:\n",
        "  total *= i\n",
        "print(total)\n"
      ],
      "execution_count": 4,
      "outputs": [
        {
          "output_type": "stream",
          "name": "stdout",
          "text": [
            "124410\n"
          ]
        }
      ]
    },
    {
      "cell_type": "code",
      "metadata": {
        "colab": {
          "base_uri": "https://localhost:8080/"
        },
        "id": "Z5Gizfrad2p4",
        "outputId": "cc385af1-7754-4de9-c596-6decf8c27359"
      },
      "source": [
        "#3\n",
        "max(list)"
      ],
      "execution_count": 5,
      "outputs": [
        {
          "output_type": "execute_result",
          "data": {
            "text/plain": [
              "29"
            ]
          },
          "metadata": {},
          "execution_count": 5
        }
      ]
    },
    {
      "cell_type": "code",
      "metadata": {
        "colab": {
          "base_uri": "https://localhost:8080/"
        },
        "id": "Z20flT7neWfr",
        "outputId": "4f9eceaa-b833-47b8-f574-632e68e1c052"
      },
      "source": [
        "#4\n",
        "min(list)"
      ],
      "execution_count": 6,
      "outputs": [
        {
          "output_type": "execute_result",
          "data": {
            "text/plain": [
              "2"
            ]
          },
          "metadata": {},
          "execution_count": 6
        }
      ]
    },
    {
      "cell_type": "code",
      "metadata": {
        "colab": {
          "base_uri": "https://localhost:8080/"
        },
        "id": "gtIUSoOuearl",
        "outputId": "ad7eef43-0a9f-44fa-9532-18ea51601cda"
      },
      "source": [
        "#5\n",
        "list.sort()\n",
        "print('ascending:',list)"
      ],
      "execution_count": 17,
      "outputs": [
        {
          "output_type": "stream",
          "name": "stdout",
          "text": [
            "ascending: [2, 11, 13, 15, 29]\n"
          ]
        }
      ]
    },
    {
      "cell_type": "code",
      "metadata": {
        "colab": {
          "base_uri": "https://localhost:8080/"
        },
        "id": "0t589WLPfoy0",
        "outputId": "b483456a-7916-49a6-d53f-b582f1618216"
      },
      "source": [
        "#6\n",
        "list.sort(reverse= True)\n",
        "print('descending:',list)"
      ],
      "execution_count": 16,
      "outputs": [
        {
          "output_type": "stream",
          "name": "stdout",
          "text": [
            "descending: [29, 15, 13, 11, 2]\n"
          ]
        }
      ]
    },
    {
      "cell_type": "code",
      "metadata": {
        "colab": {
          "base_uri": "https://localhost:8080/"
        },
        "id": "CkwqJZlMfw8j",
        "outputId": "2435eca9-45af-489a-d1ef-58797668e894"
      },
      "source": [
        "#7\n",
        "print('the size of a list:', len(list))"
      ],
      "execution_count": 18,
      "outputs": [
        {
          "output_type": "stream",
          "name": "stdout",
          "text": [
            "the size of a list: 5\n"
          ]
        }
      ]
    },
    {
      "cell_type": "code",
      "metadata": {
        "colab": {
          "base_uri": "https://localhost:8080/"
        },
        "id": "mFnJ96L5gcRr",
        "outputId": "98670bcc-6065-44b3-bde4-45d9c6abe568"
      },
      "source": [
        "#8\n",
        "import random\n",
        "print('random:',random.choices(list,k=2))"
      ],
      "execution_count": 25,
      "outputs": [
        {
          "output_type": "stream",
          "name": "stdout",
          "text": [
            "random: [11, 23]\n"
          ]
        }
      ]
    },
    {
      "cell_type": "code",
      "metadata": {
        "colab": {
          "base_uri": "https://localhost:8080/"
        },
        "id": "T2cGjd60g6Zq",
        "outputId": "936441cc-a0ae-44c5-aa85-b8670778dc2e"
      },
      "source": [
        "#9\n",
        "list2 = [23,41,32,5,6]\n",
        "list.extend(list2)\n",
        "print(list)"
      ],
      "execution_count": 23,
      "outputs": [
        {
          "output_type": "stream",
          "name": "stdout",
          "text": [
            "[2, 11, 13, 15, 29, 23, 41, 32, 5, 6]\n"
          ]
        }
      ]
    }
  ]
}