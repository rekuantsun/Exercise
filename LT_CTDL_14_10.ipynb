{
  "nbformat": 4,
  "nbformat_minor": 0,
  "metadata": {
    "colab": {
      "name": "LT-CTDL-14-10.ipynb",
      "provenance": [],
      "authorship_tag": "ABX9TyO+GIMPR4XtNP5VXaqo45EQ",
      "include_colab_link": true
    },
    "kernelspec": {
      "name": "python3",
      "display_name": "Python 3"
    },
    "language_info": {
      "name": "python"
    }
  },
  "cells": [
    {
      "cell_type": "markdown",
      "metadata": {
        "id": "view-in-github",
        "colab_type": "text"
      },
      "source": [
        "<a href=\"https://colab.research.google.com/github/rekuantsun/Exercise/blob/main/LT_CTDL_14_10.ipynb\" target=\"_parent\"><img src=\"https://colab.research.google.com/assets/colab-badge.svg\" alt=\"Open In Colab\"/></a>"
      ]
    },
    {
      "cell_type": "markdown",
      "metadata": {
        "id": "mdPqQNyYwqSb"
      },
      "source": [
        "Bài 1: Viết chương trình thực hiện các yêu cầu sau:\n",
        "- Nhập vào 1 số nguyên dương N từ bàn phím\n",
        "- Hãy xây dựng 1 dictionary với các phần tử chỉ mục và giá trị có dạng (i: log(i)) với I đi từ\n",
        "0 tới N\n",
        "- Hiển thị dictionary trên ra màn hình\n",
        "\n",
        "\n"
      ]
    },
    {
      "cell_type": "code",
      "metadata": {
        "colab": {
          "base_uri": "https://localhost:8080/"
        },
        "id": "QtbEP5SiwhrD",
        "outputId": "497e2622-d595-4ddc-c560-680bae353cd6"
      },
      "source": [
        "import math\n",
        "n= int(input('Nhập vào số dương: '))\n",
        "dictionary = {0:'lỗi'}\n",
        "for i in range(1, n+1):\n",
        "  dictionary [i] = math.log(i)\n",
        "print(dictionary)"
      ],
      "execution_count": null,
      "outputs": [
        {
          "output_type": "stream",
          "name": "stdout",
          "text": [
            "Nhập vào số dương: 5\n",
            "{0: 'lỗi', 1: 0.0, 2: 0.6931471805599453, 3: 1.0986122886681098, 4: 1.3862943611198906, 5: 1.6094379124341003}\n"
          ]
        }
      ]
    },
    {
      "cell_type": "markdown",
      "metadata": {
        "id": "A4ZfXU5N5pOC"
      },
      "source": [
        "Bài 2: Viết chương trình thực hiện các yêu cầu sau:\n",
        "- Nhập vào từ bàn phím một chuỗi các giá trị (có thể là số nguyên, số thực hay các ký tự)\n",
        "cách nhau bởi dấu phẩy (“,”).\n",
        "- Chuyển chuỗi được nhập từ bàn phím thành một danh sách (list)\n",
        "- Hiển thị danh sách đó ra màn hình."
      ]
    },
    {
      "cell_type": "code",
      "metadata": {
        "id": "Qb6A1v1G5sg_",
        "colab": {
          "base_uri": "https://localhost:8080/"
        },
        "outputId": "376daca8-a5ec-48c2-8e4c-a34c9057acfd"
      },
      "source": [
        "x = 'a,b,c,1,2,3'\n",
        "print(x.split(','))"
      ],
      "execution_count": null,
      "outputs": [
        {
          "output_type": "stream",
          "name": "stdout",
          "text": [
            "['a', 'b', 'c', '1', '2', '3']\n"
          ]
        }
      ]
    },
    {
      "cell_type": "markdown",
      "metadata": {
        "id": "kvCVAE9tdrDY"
      },
      "source": [
        "Bài 3: Viết chương trình thực hiện các yêu cầu sau:\n",
        "- Nhập vào từ bàn phím một chuỗi các giá trị (có thể là số nguyên, số thực hay các ký tự)\n",
        "cách nhau bởi dấu phẩy (“,”).\n",
        "- Chuyển chuỗi được nhập từ bàn phím thành một tuple\n",
        "- Hiển thị tuple đó ra màn hình."
      ]
    },
    {
      "cell_type": "code",
      "metadata": {
        "colab": {
          "base_uri": "https://localhost:8080/"
        },
        "id": "b9NAbZr5dlRt",
        "outputId": "a9f82751-9d15-4e63-b5c4-8fb3e287c465"
      },
      "source": [
        "x = 'a,b,c,1,2,3'\n",
        "y = tuple(x.split(','))\n",
        "print(y)"
      ],
      "execution_count": null,
      "outputs": [
        {
          "output_type": "stream",
          "name": "stdout",
          "text": [
            "('a', 'b', 'c', '1', '2', '3')\n"
          ]
        }
      ]
    },
    {
      "cell_type": "markdown",
      "metadata": {
        "id": "aVCq3n-1d8jk"
      },
      "source": [
        "Bài 4: Viết chương trình thực hiện các yêu cầu sau:\n",
        "- Nhập vào 1 chuỗi các kí tự từ bàn phím, các từ cách nhau bởi ít nhất một khoảng trắng\n",
        "- Chuyển chuỗi vừa nhập thành 1 danh sách với điều kiện phân tách là dấu khoảng trắng\n",
        "(space)\n",
        "- Hiển thị danh sách thu được ra màn hình"
      ]
    },
    {
      "cell_type": "code",
      "metadata": {
        "colab": {
          "base_uri": "https://localhost:8080/"
        },
        "id": "gyuFNrSBd_Nj",
        "outputId": "635d61ee-4cbf-49c6-f174-5b71f163dc8d"
      },
      "source": [
        "x = 'toi ten la le quang trung'\n",
        "print(x.split(' '))"
      ],
      "execution_count": null,
      "outputs": [
        {
          "output_type": "stream",
          "name": "stdout",
          "text": [
            "['toi', 'ten', 'la', 'le', 'quang', 'trung']\n"
          ]
        }
      ]
    },
    {
      "cell_type": "markdown",
      "metadata": {
        "id": "JO_WwauufJZy"
      },
      "source": [
        "Bài 5: Viết chương trình thực hiện các yêu cầu sau:\n",
        "- Nhập vào 1 danh sách các số nguyên từ bàn phím (Quá trình nhập dừng khi người dùng\n",
        "nhập vào 1 kí tự từ a đến z)\n",
        "- Hiển thị danh sách đó ra màn hình\n",
        "- Yêu cầu người dùng nhập vào một số nguyên N từ bàn phím\n",
        "- Tìm kiếm vị trí xuất hiện đầu tiên của N trong danh sách và hiển thị ra màn hình (nếu không\n",
        "có thì thông báo không tìm thấy ra màn hình).\n",
        "- Tìm kiếm tất cả các vị trí xuất hiện của N trong danh sách và hiển thị ra màn hình. (Nếu\n",
        "không tìm thấy thì thông báo không tìm được ra màn hình)"
      ]
    },
    {
      "cell_type": "code",
      "metadata": {
        "colab": {
          "base_uri": "https://localhost:8080/"
        },
        "id": "cz8QNurbfKMo",
        "outputId": "ad5ea42c-1370-4bf9-ea6d-25115d0698d5"
      },
      "source": [
        "# khởi tạo và hiển thị danh sách với a phần tử\n",
        "x = []\n",
        "a = int(input('số phần tử của danh sách: '))\n",
        "for i in range(a):\n",
        "  b = input('giá trị phần tử: ')\n",
        "  if b.isalpha() == True:\n",
        "    break\n",
        "  else:\n",
        "    x.append(int(b))\n",
        "print(x)\n",
        "# hiển thị vị trí đầu tiên của phần tử chỉ định\n",
        "n = int(input('nhập n: '))\n",
        "for j in range(len(x)):\n",
        "  if x[j] == n:\n",
        "    print('Vị trí đầu tiên của n:',j+1)\n",
        "    break\n",
        "else:\n",
        "  print('Không tìm thấy')\n",
        "# hiển thị các vị trí xuất hiện của phần tử n\n",
        "count = 0 \n",
        "while count < len(x):\n",
        "  if x[count] == n:\n",
        "    print('Vị trí của phần tử n:', count + 1)\n",
        "  count += 1 "
      ],
      "execution_count": null,
      "outputs": [
        {
          "output_type": "stream",
          "name": "stdout",
          "text": [
            "số phần tử của danh sách: 5\n",
            "giá trị phần tử: 1\n",
            "giá trị phần tử: 2\n",
            "giá trị phần tử: 3\n",
            "giá trị phần tử: 4\n",
            "giá trị phần tử: 1\n",
            "[1, 2, 3, 4, 1]\n",
            "nhập n: 1\n",
            "Vị trí đầu tiên của n: 1\n",
            "Vị trí của phần tử n: 1\n",
            "Vị trí của phần tử n: 5\n"
          ]
        }
      ]
    }
  ]
}