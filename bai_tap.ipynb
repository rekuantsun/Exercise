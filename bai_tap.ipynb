{
  "nbformat": 4,
  "nbformat_minor": 0,
  "metadata": {
    "colab": {
      "name": "bai-tap.ipynb",
      "provenance": [],
      "authorship_tag": "ABX9TyPA7xOY0+Q0qWHA/n1wU2lv",
      "include_colab_link": true
    },
    "kernelspec": {
      "name": "python3",
      "display_name": "Python 3"
    },
    "language_info": {
      "name": "python"
    }
  },
  "cells": [
    {
      "cell_type": "markdown",
      "metadata": {
        "id": "view-in-github",
        "colab_type": "text"
      },
      "source": [
        "<a href=\"https://colab.research.google.com/github/rekuantsun/Exercise/blob/main/bai_tap.ipynb\" target=\"_parent\"><img src=\"https://colab.research.google.com/assets/colab-badge.svg\" alt=\"Open In Colab\"/></a>"
      ]
    },
    {
      "cell_type": "code",
      "metadata": {
        "colab": {
          "base_uri": "https://localhost:8080/"
        },
        "id": "nOqHZVdPUCYg",
        "outputId": "299e6f94-b7b0-469c-c965-386eeb59687f"
      },
      "source": [
        "#Baitap1\n",
        "tongvay = float(input())\n",
        "laisuat = float(input())/100\n",
        "nam = int(input())\n",
        "tiencantra = (tongvay*laisuat)/(1-1/pow((1 + laisuat),nam*12))\n",
        "print('Số tiền phải trả hằng tháng là',round(tiencantra,2))"
      ],
      "execution_count": 10,
      "outputs": [
        {
          "output_type": "stream",
          "name": "stdout",
          "text": [
            "24000000\n",
            "5\n",
            "1\n",
            "Số tiền phải trả hằng tháng là 2707809.84\n"
          ]
        }
      ]
    },
    {
      "cell_type": "code",
      "metadata": {
        "colab": {
          "base_uri": "https://localhost:8080/"
        },
        "id": "tftxpsRHY6LX",
        "outputId": "7adc9828-d17f-480b-e9a7-b09dd94ef6a0"
      },
      "source": [
        "#Baitap2\n",
        "x1 = float(input())\n",
        "y1 = float(input())\n",
        "x2 = float(input())\n",
        "y2 = float(input())\n",
        "print('Tính khoảng cách giữa A(',x1,';',y1,'), B(',x2,';',y2,')')\n",
        "import math\n",
        "kc = math.sqrt((x2 - x1)**2 + (y2 -y1)**2)\n",
        "print('Khoảng cách giữa A(',x1,';',y1,'), B(',x2,';',y2,') là',round(kc,2))"
      ],
      "execution_count": 18,
      "outputs": [
        {
          "output_type": "stream",
          "name": "stdout",
          "text": [
            "1.5\n",
            "2.4\n",
            "3\n",
            "4\n",
            "Tính khoảng cách giữa A( 1.5 ; 2.4 ), B( 3.0 ; 4.0 )\n",
            "Khoảng cách giữa A( 1.5 ; 2.4 ), B( 3.0 ; 4.0 ) là 2.19\n"
          ]
        }
      ]
    }
  ]
}