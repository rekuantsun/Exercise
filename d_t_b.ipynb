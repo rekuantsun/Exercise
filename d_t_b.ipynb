{
  "nbformat": 4,
  "nbformat_minor": 0,
  "metadata": {
    "colab": {
      "name": "d-t-b.ipynb",
      "provenance": [],
      "authorship_tag": "ABX9TyPfyKRUXDK+6lAvuAP2DiSf",
      "include_colab_link": true
    },
    "kernelspec": {
      "name": "python3",
      "display_name": "Python 3"
    },
    "language_info": {
      "name": "python"
    }
  },
  "cells": [
    {
      "cell_type": "markdown",
      "metadata": {
        "id": "view-in-github",
        "colab_type": "text"
      },
      "source": [
        "<a href=\"https://colab.research.google.com/github/rekuantsun/Exercise/blob/main/d_t_b.ipynb\" target=\"_parent\"><img src=\"https://colab.research.google.com/assets/colab-badge.svg\" alt=\"Open In Colab\"/></a>"
      ]
    },
    {
      "cell_type": "code",
      "metadata": {
        "colab": {
          "base_uri": "https://localhost:8080/"
        },
        "id": "x8hTnwEQJzlz",
        "outputId": "8340de54-a477-48c3-b05d-5b1be9d92ee7"
      },
      "source": [
        "dtb = float(input('điểm trung bình: '))\n",
        "if dtb >= 9.0:\n",
        "  print('xuất sắc')\n",
        "elif dtb >= 8.0:\n",
        "  print('giỏi')\n",
        "elif dtb >= 7.0:\n",
        "  print('khá')\n",
        "elif dtb >= 5.0:\n",
        "  print('trung bình')\n",
        "elif dtb >= 0:\n",
        "  print('yếu')\n"
      ],
      "execution_count": 3,
      "outputs": [
        {
          "output_type": "stream",
          "name": "stdout",
          "text": [
            "điểm trung bình: 10.0\n",
            "xuất sắc\n"
          ]
        }
      ]
    }
  ]
}