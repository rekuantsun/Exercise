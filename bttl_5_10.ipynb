{
  "nbformat": 4,
  "nbformat_minor": 0,
  "metadata": {
    "colab": {
      "name": "bttl-5-10.ipynb",
      "provenance": [],
      "authorship_tag": "ABX9TyPTvmFoMG56v+AbYJOEwpUn",
      "include_colab_link": true
    },
    "kernelspec": {
      "name": "python3",
      "display_name": "Python 3"
    },
    "language_info": {
      "name": "python"
    }
  },
  "cells": [
    {
      "cell_type": "markdown",
      "metadata": {
        "id": "view-in-github",
        "colab_type": "text"
      },
      "source": [
        "<a href=\"https://colab.research.google.com/github/rekuantsun/Exercise/blob/main/bttl_5_10.ipynb\" target=\"_parent\"><img src=\"https://colab.research.google.com/assets/colab-badge.svg\" alt=\"Open In Colab\"/></a>"
      ]
    },
    {
      "cell_type": "code",
      "metadata": {
        "colab": {
          "base_uri": "https://localhost:8080/"
        },
        "id": "v5_gMKXcCSCy",
        "outputId": "e166b58e-9f0b-4f66-c944-da4b9f2b9401"
      },
      "source": [
        "#1\n",
        "num=int(input('Input number: '))\n",
        "if (num > 0):\n",
        "  print('Number is positive')\n",
        "elif:\n",
        "  print('Number is negative')\n",
        "else:\n",
        "  print('zero')"
      ],
      "execution_count": null,
      "outputs": [
        {
          "output_type": "stream",
          "name": "stdout",
          "text": [
            "nhap so nguyen tai day: 0\n",
            "Number is positive\n"
          ]
        }
      ]
    },
    {
      "cell_type": "code",
      "metadata": {
        "colab": {
          "base_uri": "https://localhost:8080/"
        },
        "id": "bqhiKDpbC_y1",
        "outputId": "b29455dd-8cec-4a36-bbd4-47a0e46ec49c"
      },
      "source": [
        "#2\n",
        "num1=int(input('input the 1st number: '))\n",
        "num2=int(input('input the 2nd number: '))\n",
        "num3=int(input('input the 3rd number: '))\n",
        "if (num1>num2):\n",
        "  if(num3>num1):\n",
        "    print('The greatest:',num3)\n",
        "  else:\n",
        "    print('The greatest:',num1)\n",
        "elif (num3>num2):\n",
        "  print('The greatest:',num3)\n",
        "else:\n",
        "  print('The greatest:',num2)"
      ],
      "execution_count": null,
      "outputs": [
        {
          "output_type": "stream",
          "name": "stdout",
          "text": [
            "input the 1st number: 8\n",
            "input the 2nd number: 5\n",
            "input the 3rd number: 6\n",
            "The greatest: 8\n"
          ]
        }
      ]
    },
    {
      "cell_type": "code",
      "metadata": {
        "colab": {
          "base_uri": "https://localhost:8080/"
        },
        "id": "bznvdRcrFaI1",
        "outputId": "6bc2f401-1ec1-4113-ab73-0e5f4b2fb93c"
      },
      "source": [
        "#3\n",
        "num=float(input('Input number: '))\n",
        "if (num==0):\n",
        "  print('zero')\n",
        "elif (num >= 0):\n",
        "  if (num > 1000000):\n",
        "    print('large positive number')\n",
        "  elif (num > 1):\n",
        "    print('positive number')\n",
        "  elif (num > 0):\n",
        "    print('small positive number')\n",
        "elif (num > -1):\n",
        "  print('small negative number')\n",
        "elif (num > -1000000):\n",
        "  print('negative number')\n",
        "else:\n",
        "  print('large negative number')"
      ],
      "execution_count": null,
      "outputs": [
        {
          "output_type": "stream",
          "name": "stdout",
          "text": [
            "Input number: -1000001\n",
            "large negative number\n"
          ]
        }
      ]
    },
    {
      "cell_type": "code",
      "metadata": {
        "colab": {
          "base_uri": "https://localhost:8080/"
        },
        "id": "L9mpuwY0NVNG",
        "outputId": "08ae155b-74a4-4aad-c00a-355ecfb49be3"
      },
      "source": [
        "#4\n",
        "import math\n",
        "num=int(input('input number: '))\n",
        "kq = abs(num)%7+1\n",
        "if kq == 1:\n",
        "  print('monday')\n",
        "elif kq == 2:\n",
        "  print('tuesday')\n",
        "elif kq == 3:\n",
        "  print('wednesday')\n",
        "elif kq == 4:\n",
        "  print('thurday')\n",
        "elif kq == 5:\n",
        "  print('friday')\n",
        "elif kq == 6:\n",
        "  print('saturday')\n",
        "elif kq == 7:\n",
        "  print('sunday')"
      ],
      "execution_count": null,
      "outputs": [
        {
          "output_type": "stream",
          "name": "stdout",
          "text": [
            "input number: 10\n",
            "thurday\n"
          ]
        }
      ]
    },
    {
      "cell_type": "code",
      "metadata": {
        "colab": {
          "base_uri": "https://localhost:8080/"
        },
        "id": "ycKK1yNaHfpF",
        "outputId": "c899b8b5-7753-47c6-a67b-c3bcba3272df"
      },
      "source": [
        "#5\n",
        "num1=float(input('Input floating-point number: '))\n",
        "num2=float(input('Input floating-point another number: '))\n",
        "num1=round(num1*1000)\n",
        "num1=num1/1000\n",
        "num2=round(num2*1000)\n",
        "num2=num2/1000\n",
        "if (num1 == num2):\n",
        "  print('they are the same')\n",
        "else:\n",
        "  print('they are different')"
      ],
      "execution_count": 7,
      "outputs": [
        {
          "output_type": "stream",
          "name": "stdout",
          "text": [
            "Input floating-point number: 2.456123\n",
            "Input floating-point another number: 2.456123\n",
            "they are the same\n"
          ]
        }
      ]
    }
  ]
}