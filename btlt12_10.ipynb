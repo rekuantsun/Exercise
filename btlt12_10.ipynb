{
  "nbformat": 4,
  "nbformat_minor": 0,
  "metadata": {
    "colab": {
      "name": "btlt12-10.ipynb",
      "provenance": [],
      "authorship_tag": "ABX9TyMPdkrz8EAHcIDKFo3q5Z8j",
      "include_colab_link": true
    },
    "kernelspec": {
      "name": "python3",
      "display_name": "Python 3"
    },
    "language_info": {
      "name": "python"
    }
  },
  "cells": [
    {
      "cell_type": "markdown",
      "metadata": {
        "id": "view-in-github",
        "colab_type": "text"
      },
      "source": [
        "<a href=\"https://colab.research.google.com/github/rekuantsun/Exercise/blob/main/btlt12_10.ipynb\" target=\"_parent\"><img src=\"https://colab.research.google.com/assets/colab-badge.svg\" alt=\"Open In Colab\"/></a>"
      ]
    },
    {
      "cell_type": "markdown",
      "metadata": {
        "id": "YIMnJu5EHozn"
      },
      "source": [
        "Bài 1: Viết chương trình tìm tất cả các số chia hết cho 7 nhưng không phải bội số của 5, nằm trong\n",
        "đoạn 10 và 200 (tính cả 10 và 200). Các số thu được sẽ được in ra màn hình."
      ]
    },
    {
      "cell_type": "code",
      "metadata": {
        "colab": {
          "base_uri": "https://localhost:8080/"
        },
        "id": "Xmhapd_d0w4b",
        "outputId": "9419e8bc-8c17-44df-d7f4-169a4435d52b"
      },
      "source": [
        "#1\n",
        "\n",
        "n1 = 10\n",
        "n2 = 200\n",
        "\n",
        "for i in range ( 10, 201):\n",
        "  if i % 7 == 0:\n",
        "    if i % 5 != 0:\n",
        "      print (i)"
      ],
      "execution_count": 29,
      "outputs": [
        {
          "output_type": "stream",
          "name": "stdout",
          "text": [
            "14\n",
            "21\n",
            "28\n",
            "42\n",
            "49\n",
            "56\n",
            "63\n",
            "77\n",
            "84\n",
            "91\n",
            "98\n",
            "112\n",
            "119\n",
            "126\n",
            "133\n",
            "147\n",
            "154\n",
            "161\n",
            "168\n",
            "182\n",
            "189\n",
            "196\n"
          ]
        }
      ]
    },
    {
      "cell_type": "markdown",
      "metadata": {
        "id": "jC0MvLksHuGN"
      },
      "source": [
        "Bài 2: Viết một chương trình tính giai thừa của một số nguyên dương n. Với n được nhập từ bàn\n",
        "phím. Ví dụ, n = 8 thì kết quả đầu ra phải là 1*2*3*4*5*6*7*8 = 40320."
      ]
    },
    {
      "cell_type": "code",
      "metadata": {
        "colab": {
          "base_uri": "https://localhost:8080/"
        },
        "id": "GOBMwMKZ3gtE",
        "outputId": "7a94cbf8-49d0-4931-d6cb-71980df95830"
      },
      "source": [
        "#2\n",
        "import math\n",
        "n = int(input('giai thua so: '))\n",
        "kq = 1\n",
        "if n < 0:\n",
        "  n = abs(n)\n",
        "for i in range (1, n+1):\n",
        "  kq *= i\n",
        "print('Giai thua so', n, 'la:', kq)"
      ],
      "execution_count": 27,
      "outputs": [
        {
          "output_type": "stream",
          "name": "stdout",
          "text": [
            "giai thua so: 5\n",
            "Giai thua so 5 la: 120\n"
          ]
        }
      ]
    },
    {
      "cell_type": "markdown",
      "metadata": {
        "id": "5qIfp4JbHxF4"
      },
      "source": [
        "Bài 3: Dãy số Fibonacci được định nghĩa như sau: F0 = 0, F1 = 1, F2 = 1, Fn = F(n-1) + F(n-2)\n",
        "với n >= 2. Ví dụ: 0, 1, 1, 2, 3, 5, 8, ... Hãy viết chương trình tìm n số Fibonacci đầu tiên với n\n",
        "nhập vào từ bàn phím."
      ]
    },
    {
      "cell_type": "code",
      "metadata": {
        "colab": {
          "base_uri": "https://localhost:8080/"
        },
        "id": "H9e791At4L75",
        "outputId": "dc5d38b7-3637-49b1-82e2-d598486a4db6"
      },
      "source": [
        "#3\n",
        "n = int(input('enter your number: '))\n",
        "count = 0\n",
        "n1 = 0\n",
        "n2 = 1\n",
        "if n <= 0:\n",
        "  print('hay nhap so duong')\n",
        "elif n == 1:\n",
        "  print (n1)\n",
        "else:\n",
        "  n3 = n1 + n2\n",
        "  print ('dap an: ')\n",
        "  while count < n:\n",
        "    n3 = n1 + n2\n",
        "    print(n1)\n",
        "    n1 = n2 \n",
        "    n2 = n3\n",
        "    count += 1\n",
        "\n"
      ],
      "execution_count": 11,
      "outputs": [
        {
          "output_type": "stream",
          "name": "stdout",
          "text": [
            "enter your number: 10\n",
            "dap an: \n",
            "0\n",
            "1\n",
            "1\n",
            "2\n",
            "3\n",
            "5\n",
            "8\n",
            "13\n",
            "21\n",
            "34\n"
          ]
        }
      ]
    },
    {
      "cell_type": "markdown",
      "metadata": {
        "id": "DTN2V6gXHzgV"
      },
      "source": [
        "Bài 4: Viết chương trình liệt kê tất cả các số nguyên tố nhỏ hơn n. Số nguyên dương n được nhập\n",
        "từ bàn phím."
      ]
    },
    {
      "cell_type": "code",
      "metadata": {
        "colab": {
          "base_uri": "https://localhost:8080/"
        },
        "id": "ectyW_iR7Low",
        "outputId": "98e22810-5b3e-4ece-814c-d06e625eaf31"
      },
      "source": [
        "#4\n",
        "n = int(input('enter your number: '))\n",
        "if n > 1:\n",
        "  for i in range (2,n):\n",
        "    for j in range (2,i):\n",
        "      if i % j == 0:\n",
        "        break\n",
        "    else:\n",
        "      print(i)\n",
        "else:\n",
        "  print(n)"
      ],
      "execution_count": 16,
      "outputs": [
        {
          "output_type": "stream",
          "name": "stdout",
          "text": [
            "enter your number: 10\n",
            "2\n",
            "3\n",
            "5\n",
            "7\n"
          ]
        }
      ]
    },
    {
      "cell_type": "markdown",
      "metadata": {
        "id": "yJ1TcyRaH2Q1"
      },
      "source": [
        "Bài 5: Viết chương trình liệt kê n số nguyên tố đầu tiên. Số nguyên dương n được nhập từ bàn\n",
        "phím."
      ]
    },
    {
      "cell_type": "code",
      "metadata": {
        "colab": {
          "base_uri": "https://localhost:8080/"
        },
        "id": "MQVrN3fJ-sUI",
        "outputId": "a6471f6f-cf20-4b91-c605-60b03d0a1ad4"
      },
      "source": [
        "#5\n",
        "n = int(input('enter your number: '))\n",
        "y = []\n",
        "for i in range (2,10000):\n",
        "  for j in range (2,i):\n",
        "      if i % j == 0:\n",
        "        break\n",
        "  else:\n",
        "      y.append(i)\n",
        "for v in range(n):\n",
        "  print(y[v])"
      ],
      "execution_count": 18,
      "outputs": [
        {
          "output_type": "stream",
          "name": "stdout",
          "text": [
            "enter your number: 5\n",
            "2\n",
            "3\n",
            "5\n",
            "7\n",
            "11\n"
          ]
        }
      ]
    },
    {
      "cell_type": "markdown",
      "metadata": {
        "id": "PNwunZV0H4Xe"
      },
      "source": [
        "Bài 6: Viết chương trình liệt kê tất cả số nguyên tố có 5 chữ số."
      ]
    },
    {
      "cell_type": "code",
      "metadata": {
        "id": "vKrm5PpYBktA"
      },
      "source": [
        "#6\n",
        "for i in range (10000,100000):\n",
        "  for j in range (2,i):\n",
        "      if i % j == 0:\n",
        "        break\n",
        "  else:\n",
        "      print(i)"
      ],
      "execution_count": null,
      "outputs": []
    },
    {
      "cell_type": "markdown",
      "metadata": {
        "id": "j7dKJUKKH7MG"
      },
      "source": [
        "Bài 7: Viết chương trình tính tổng của các chữ số của môt số nguyên n. Số nguyên dương n được\n",
        "nhập từ bàn phím. Ví dụ: n = 1234, tổng các chữ số: 1 + 2 + 3 + 4 = 10"
      ]
    },
    {
      "cell_type": "code",
      "metadata": {
        "colab": {
          "base_uri": "https://localhost:8080/"
        },
        "id": "6HwiqP3tCUyK",
        "outputId": "43e37024-fb32-40e3-e0d8-6e28601d4486"
      },
      "source": [
        "#7\n",
        "n = input('enter your number: ')\n",
        "sum = 0\n",
        "for i in range(len(n)):\n",
        "  sum += int(n[i])\n",
        "print(sum)"
      ],
      "execution_count": 24,
      "outputs": [
        {
          "output_type": "stream",
          "name": "stdout",
          "text": [
            "enter your number: 1234\n",
            "10\n"
          ]
        }
      ]
    },
    {
      "cell_type": "markdown",
      "metadata": {
        "id": "mo4xK6O_H-Sm"
      },
      "source": [
        "Bài 8: Viết chương trình liệt kê các số Fibonacci nhỏ hơn n là số nguyên tố. N là số nguyên dương\n",
        "được nhập từ bàn phím."
      ]
    },
    {
      "cell_type": "code",
      "metadata": {
        "colab": {
          "base_uri": "https://localhost:8080/"
        },
        "id": "3LhNQv1I9CKF",
        "outputId": "c45a5c06-7b8f-43cb-84d8-e95c0402e2e1"
      },
      "source": [
        "#8\n",
        "import math\n",
        "#Tính số fibonacci thứ n\n",
        "def fibonacci(n):\n",
        "    if (n < 0):\n",
        "        return -1;\n",
        "    elif (n == 0 or n == 1):\n",
        "        return n;\n",
        "    else:\n",
        "        return fibonacci(n - 1) + fibonacci(n - 2);\n",
        " \n",
        "#check so nguyen to\n",
        "def isPrimeNumber(n):\n",
        "    # so nguyen n < 2 khong phai la so nguyen to\n",
        "    if (n < 2):\n",
        "        return False;\n",
        " \n",
        "    # check so nguyen to khi n >= 2\n",
        "    squareRoot = int(math.sqrt(n));\n",
        "    for i in range(2, squareRoot + 1):\n",
        "        if (n % i == 0):\n",
        "            return False;\n",
        "    return True;\n",
        "#Chương trình liệt kê các số Fibonacci nhỏ hơn n là số nguyên tố.\n",
        "n = int(input(\"Nhập số nguyên dương n = \"));\n",
        "print (\"Tất cả các số fibonacci nhỏ hơn\", n, \"và nguyên tố:\");\n",
        "i = 0;\n",
        "fin = fibonacci(i);\n",
        "while(fin < n):\n",
        "    fin = fibonacci(i);\n",
        "    if (isPrimeNumber(fin)):\n",
        "        print(fin)\n",
        "    i = i + 1;"
      ],
      "execution_count": 28,
      "outputs": [
        {
          "output_type": "stream",
          "name": "stdout",
          "text": [
            "Nhập số nguyên dương n = 1000\n",
            "Tất cả các số fibonacci nhỏ hơn 1000 và nguyên tố:\n",
            "2\n",
            "3\n",
            "5\n",
            "13\n",
            "89\n",
            "233\n",
            "1597\n"
          ]
        }
      ]
    }
  ]
}